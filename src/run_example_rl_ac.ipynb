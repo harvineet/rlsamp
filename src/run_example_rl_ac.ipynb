{
 "cells": [
  {
   "cell_type": "code",
   "execution_count": 2,
   "metadata": {},
   "outputs": [],
   "source": [
    "%load_ext autoreload\n",
    "%autoreload 2"
   ]
  },
  {
   "cell_type": "code",
   "execution_count": 76,
   "metadata": {},
   "outputs": [],
   "source": [
    "'''\n",
    "Adapted from code by Ian Osband\n",
    "https://github.com/iosband/ts_tutorial/\n",
    "\n",
    "Run experiment on extrasensory data\n",
    "Policy: uniform random, posterior sampling\n",
    "'''\n",
    "\n",
    "import os\n",
    "import sys\n",
    "import argparse\n",
    "\n",
    "import numpy as np\n",
    "import pandas as pd\n",
    "import plotnine as gg\n",
    "\n",
    "from base.experiment import BaseExperiment\n",
    "from al.env_al import ContextualBanditFunctionalContext\n",
    "from al.agent_rl import PolicyGradientREINFORCE, PolicyGradientActorCritic, UniformRandom\n",
    "from al.env_al import normal_iid, sinewave, linear_classifier\n",
    "from al.policy import PolicyNN, PolicyNNActorCritic\n",
    "\n",
    "sys.path.append(os.getcwd())"
   ]
  },
  {
   "cell_type": "code",
   "execution_count": 77,
   "metadata": {},
   "outputs": [],
   "source": [
    "##############################################################################\n",
    "# Running a single experiment\n",
    "\n",
    "true_theta = [1.0, 0.5]\n",
    "n_steps = 1000\n",
    "seed = 0\n",
    "args = argparse.Namespace() # From https://stackoverflow.com/questions/16878315/what-is-the-right-way-to-treat-python-argparse-namespace-as-a-dictionary\n",
    "args.n_feat = len(true_theta)\n",
    "args.optim = 'adam' #'sgd'\n",
    "args.learn_rate = 5e-3\n",
    "args.momentum = 0.9 # only for SGD\n",
    "args.gamma = 1 # discount factor\n",
    "args.sample_cost = 2 # 0 <= cost\n",
    "args.in_dim = 2 # input dim of policy\n",
    "args.n_act = 2 # num actions\n",
    "\n",
    "agent = PolicyGradientActorCritic(PolicyNNActorCritic, args) #UniformRandom(n_arm)\n",
    "env = ContextualBanditFunctionalContext(normal_iid, true_theta, linear_classifier)\n",
    "experiment = BaseExperiment(agent, env, n_steps=n_steps,\n",
    "                            seed=seed, unique_id='example')\n",
    "\n",
    "experiment.run_experiment()"
   ]
  },
  {
   "cell_type": "code",
   "execution_count": 78,
   "metadata": {},
   "outputs": [
    {
     "data": {
      "image/png": "[encoded data removed]",
      "text/plain": [
       "<Figure size 640x480 with 1 Axes>"
      ]
     },
     "metadata": {},
     "output_type": "display_data"
    },
    {
     "name": "stdout",
     "output_type": "stream",
     "text": [
      "<ggplot: (-9223372029290870012)>\n",
      "79 0.079\n"
     ]
    }
   ],
   "source": [
    "##############################################################################\n",
    "# Simple display / plot of results\n",
    "\n",
    "experiment.results.head()\n",
    "\n",
    "p = (gg.ggplot(experiment.results)\n",
    "     + gg.aes(x='t', y='cum_regret', colour='unique_id')\n",
    "     + gg.geom_line())\n",
    "print(p)\n",
    "\n",
    "print(env.num_query, env.num_query/n_steps)"
   ]
  },
  {
   "cell_type": "code",
   "execution_count": 36,
   "metadata": {},
   "outputs": [
    {
     "data": {
      "text/html": [
       "<div>\n",
       "<style scoped>\n",
       "    .dataframe tbody tr th:only-of-type {\n",
       "        vertical-align: middle;\n",
       "    }\n",
       "\n",
       "    .dataframe tbody tr th {\n",
       "        vertical-align: top;\n",
       "    }\n",
       "\n",
       "    .dataframe thead th {\n",
       "        text-align: right;\n",
       "    }\n",
       "</style>\n",
       "<table border=\"1\" class=\"dataframe\">\n",
       "  <thead>\n",
       "    <tr style=\"text-align: right;\">\n",
       "      <th></th>\n",
       "      <th>t</th>\n",
       "      <th>instant_regret</th>\n",
       "      <th>cum_regret</th>\n",
       "      <th>action</th>\n",
       "      <th>unique_id</th>\n",
       "      <th>instant_reward</th>\n",
       "      <th>cum_reward</th>\n",
       "      <th>num_query</th>\n",
       "      <th>logger</th>\n",
       "    </tr>\n",
       "  </thead>\n",
       "  <tbody>\n",
       "    <tr>\n",
       "      <th>0</th>\n",
       "      <td>1</td>\n",
       "      <td>1.0</td>\n",
       "      <td>1.0</td>\n",
       "      <td>(0, 0.0)</td>\n",
       "      <td>example</td>\n",
       "      <td>0.0</td>\n",
       "      <td>0.0</td>\n",
       "      <td>0</td>\n",
       "      <td>[0.0, 0.0]</td>\n",
       "    </tr>\n",
       "    <tr>\n",
       "      <th>1</th>\n",
       "      <td>2</td>\n",
       "      <td>1.0</td>\n",
       "      <td>2.0</td>\n",
       "      <td>(1, 0.0)</td>\n",
       "      <td>example</td>\n",
       "      <td>0.0</td>\n",
       "      <td>0.0</td>\n",
       "      <td>1</td>\n",
       "      <td>[0.0, 0.0]</td>\n",
       "    </tr>\n",
       "    <tr>\n",
       "      <th>2</th>\n",
       "      <td>3</td>\n",
       "      <td>1.0</td>\n",
       "      <td>3.0</td>\n",
       "      <td>(1, -1.0)</td>\n",
       "      <td>example</td>\n",
       "      <td>0.0</td>\n",
       "      <td>0.0</td>\n",
       "      <td>2</td>\n",
       "      <td>[0.09235160607642703, 0.21144585103753286]</td>\n",
       "    </tr>\n",
       "    <tr>\n",
       "      <th>3</th>\n",
       "      <td>4</td>\n",
       "      <td>0.0</td>\n",
       "      <td>3.0</td>\n",
       "      <td>(0, 1.0)</td>\n",
       "      <td>example</td>\n",
       "      <td>1.0</td>\n",
       "      <td>1.0</td>\n",
       "      <td>2</td>\n",
       "      <td>[0.27209750203632505, 0.11829006332219753]</td>\n",
       "    </tr>\n",
       "    <tr>\n",
       "      <th>4</th>\n",
       "      <td>5</td>\n",
       "      <td>0.0</td>\n",
       "      <td>3.0</td>\n",
       "      <td>(1, 1.0)</td>\n",
       "      <td>example</td>\n",
       "      <td>1.0</td>\n",
       "      <td>2.0</td>\n",
       "      <td>3</td>\n",
       "      <td>[0.27209750203632505, 0.11829006332219753]</td>\n",
       "    </tr>\n",
       "    <tr>\n",
       "      <th>...</th>\n",
       "      <td>...</td>\n",
       "      <td>...</td>\n",
       "      <td>...</td>\n",
       "      <td>...</td>\n",
       "      <td>...</td>\n",
       "      <td>...</td>\n",
       "      <td>...</td>\n",
       "      <td>...</td>\n",
       "      <td>...</td>\n",
       "    </tr>\n",
       "    <tr>\n",
       "      <th>9995</th>\n",
       "      <td>9996</td>\n",
       "      <td>0.0</td>\n",
       "      <td>63.0</td>\n",
       "      <td>(0, 1.0)</td>\n",
       "      <td>example</td>\n",
       "      <td>1.0</td>\n",
       "      <td>9933.0</td>\n",
       "      <td>1716</td>\n",
       "      <td>[6.796991767360236, 3.4838030608983916]</td>\n",
       "    </tr>\n",
       "    <tr>\n",
       "      <th>9996</th>\n",
       "      <td>9997</td>\n",
       "      <td>0.0</td>\n",
       "      <td>63.0</td>\n",
       "      <td>(0, 1.0)</td>\n",
       "      <td>example</td>\n",
       "      <td>1.0</td>\n",
       "      <td>9934.0</td>\n",
       "      <td>1716</td>\n",
       "      <td>[6.796991767360236, 3.4838030608983916]</td>\n",
       "    </tr>\n",
       "    <tr>\n",
       "      <th>9997</th>\n",
       "      <td>9998</td>\n",
       "      <td>0.0</td>\n",
       "      <td>63.0</td>\n",
       "      <td>(0, -1.0)</td>\n",
       "      <td>example</td>\n",
       "      <td>1.0</td>\n",
       "      <td>9935.0</td>\n",
       "      <td>1716</td>\n",
       "      <td>[6.796991767360236, 3.4838030608983916]</td>\n",
       "    </tr>\n",
       "    <tr>\n",
       "      <th>9998</th>\n",
       "      <td>9999</td>\n",
       "      <td>0.0</td>\n",
       "      <td>63.0</td>\n",
       "      <td>(0, -1.0)</td>\n",
       "      <td>example</td>\n",
       "      <td>1.0</td>\n",
       "      <td>9936.0</td>\n",
       "      <td>1716</td>\n",
       "      <td>[6.796991767360236, 3.4838030608983916]</td>\n",
       "    </tr>\n",
       "    <tr>\n",
       "      <th>9999</th>\n",
       "      <td>10000</td>\n",
       "      <td>0.0</td>\n",
       "      <td>63.0</td>\n",
       "      <td>(0, -1.0)</td>\n",
       "      <td>example</td>\n",
       "      <td>1.0</td>\n",
       "      <td>9937.0</td>\n",
       "      <td>1716</td>\n",
       "      <td>[6.796991767360236, 3.4838030608983916]</td>\n",
       "    </tr>\n",
       "  </tbody>\n",
       "</table>\n",
       "<p>10000 rows × 9 columns</p>\n",
       "</div>"
      ],
      "text/plain": [
       "          t  instant_regret  cum_regret     action unique_id  instant_reward  \\\n",
       "0         1             1.0         1.0   (0, 0.0)   example             0.0   \n",
       "1         2             1.0         2.0   (1, 0.0)   example             0.0   \n",
       "2         3             1.0         3.0  (1, -1.0)   example             0.0   \n",
       "3         4             0.0         3.0   (0, 1.0)   example             1.0   \n",
       "4         5             0.0         3.0   (1, 1.0)   example             1.0   \n",
       "...     ...             ...         ...        ...       ...             ...   \n",
       "9995   9996             0.0        63.0   (0, 1.0)   example             1.0   \n",
       "9996   9997             0.0        63.0   (0, 1.0)   example             1.0   \n",
       "9997   9998             0.0        63.0  (0, -1.0)   example             1.0   \n",
       "9998   9999             0.0        63.0  (0, -1.0)   example             1.0   \n",
       "9999  10000             0.0        63.0  (0, -1.0)   example             1.0   \n",
       "\n",
       "      cum_reward  num_query                                      logger  \n",
       "0            0.0          0                                  [0.0, 0.0]  \n",
       "1            0.0          1                                  [0.0, 0.0]  \n",
       "2            0.0          2  [0.09235160607642703, 0.21144585103753286]  \n",
       "3            1.0          2  [0.27209750203632505, 0.11829006332219753]  \n",
       "4            2.0          3  [0.27209750203632505, 0.11829006332219753]  \n",
       "...          ...        ...                                         ...  \n",
       "9995      9933.0       1716     [6.796991767360236, 3.4838030608983916]  \n",
       "9996      9934.0       1716     [6.796991767360236, 3.4838030608983916]  \n",
       "9997      9935.0       1716     [6.796991767360236, 3.4838030608983916]  \n",
       "9998      9936.0       1716     [6.796991767360236, 3.4838030608983916]  \n",
       "9999      9937.0       1716     [6.796991767360236, 3.4838030608983916]  \n",
       "\n",
       "[10000 rows x 9 columns]"
      ]
     },
     "execution_count": 36,
     "metadata": {},
     "output_type": "execute_result"
    }
   ],
   "source": [
    "experiment.results"
   ]
  },
  {
   "cell_type": "code",
   "execution_count": 12,
   "metadata": {},
   "outputs": [
    {
     "data": {
      "text/plain": [
       "array([1.88939474, 0.84184241])"
      ]
     },
     "execution_count": 12,
     "metadata": {},
     "output_type": "execute_result"
    }
   ],
   "source": [
    "agent.w_t"
   ]
  },
  {
   "cell_type": "code",
   "execution_count": 13,
   "metadata": {},
   "outputs": [
    {
     "data": {
      "text/plain": [
       "[Parameter containing:\n",
       " tensor([[-0.2787, -0.5066],\n",
       "         [ 0.5832,  0.5290]], requires_grad=True), Parameter containing:\n",
       " tensor([-0.1500, -0.5051], requires_grad=True), Parameter containing:\n",
       " tensor([[ 0.3234, -0.3129],\n",
       "         [-0.0861, -0.5558]], requires_grad=True), Parameter containing:\n",
       " tensor([ 3.3597, -3.1324], requires_grad=True), Parameter containing:\n",
       " tensor([[-0.3166,  0.4822]], requires_grad=True), Parameter containing:\n",
       " tensor([8.3231e-07], requires_grad=True)]"
      ]
     },
     "execution_count": 13,
     "metadata": {},
     "output_type": "execute_result"
    }
   ],
   "source": [
    "list(agent.policy.parameters())"
   ]
  },
  {
   "cell_type": "code",
   "execution_count": 56,
   "metadata": {},
   "outputs": [],
   "source": [
    "a=[np.sin(2*np.pi*10*(ts-1)/1000) + np.random.normal(loc=0.0, scale=0.1) for ts in range(1000)]\n",
    "a=pd.DataFrame({'x':range(1000),'y':a})\n",
    "p = (gg.ggplot(a)\n",
    "     + gg.aes(x='x', y='y')\n",
    "     + gg.geom_line())\n",
    "print(p)"
   ]
  },
  {
   "cell_type": "code",
   "execution_count": 77,
   "metadata": {},
   "outputs": [
    {
     "data": {
      "text/plain": [
       "array([ 1,  2, 23])"
      ]
     },
     "execution_count": 77,
     "metadata": {},
     "output_type": "execute_result"
    }
   ],
   "source": [
    "np.append(np.array([1,2]),23)"
   ]
  }
 ],
 "metadata": {
  "kernelspec": {
   "display_name": "Python 3",
   "language": "python",
   "name": "python3"
  },
  "language_info": {
   "codemirror_mode": {
    "name": "ipython",
    "version": 3
   },
   "file_extension": ".py",
   "mimetype": "text/x-python",
   "name": "python",
   "nbconvert_exporter": "python",
   "pygments_lexer": "ipython3",
   "version": "3.6.9"
  }
 },
 "nbformat": 4,
 "nbformat_minor": 4
}
