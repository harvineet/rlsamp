{
 "cells": [
  {
   "cell_type": "code",
   "execution_count": 1,
   "metadata": {},
   "outputs": [],
   "source": [
    "%load_ext autoreload\n",
    "%autoreload 2"
   ]
  },
  {
   "cell_type": "code",
   "execution_count": 80,
   "metadata": {},
   "outputs": [],
   "source": [
    "'''\n",
    "Adapted from code by Ian Osband\n",
    "https://github.com/iosband/ts_tutorial/\n",
    "\n",
    "Run experiment on extrasensory data\n",
    "Policy: uniform random, posterior sampling\n",
    "'''\n",
    "\n",
    "import os\n",
    "import sys\n",
    "import argparse\n",
    "\n",
    "import numpy as np\n",
    "import pandas as pd\n",
    "import plotnine as gg\n",
    "\n",
    "from base.experiment import BaseExperiment\n",
    "from al.env_al import ContextualBanditFunctionalContext\n",
    "from al.agent_rl import PolicyGradientREINFORCE, UniformRandom\n",
    "from al.env_al import normal_iid, sinewave, linear_classifier\n",
    "from al.policy import PolicyNN\n",
    "\n",
    "sys.path.append(os.getcwd())"
   ]
  },
  {
   "cell_type": "code",
   "execution_count": 92,
   "metadata": {},
   "outputs": [
    {
     "name": "stdout",
     "output_type": "stream",
     "text": [
      "pick_action [0.21632359 0.13365279 0.06073209] tensor([[0.9456, 0.0544]]) 0\n",
      "pick_action [0.14665787 0.08525519 0.02797203] tensor([[0.9746, 0.0254]]) 0\n",
      "pick_action [-0.09301565 -0.01785891  0.00889109] tensor([[0.9826, 0.0174]]) 0\n",
      "pick_action [-0.04246633 -0.08299646  0.00861691] tensor([[0.9907, 0.0093]]) 0\n",
      "pick_action [-0.11476109 -0.03581141  0.01424666] tensor([[0.9923, 0.0077]]) 0\n",
      "pick_action [-0.20118803  0.05897036  0.0421035 ] tensor([[0.9933, 0.0067]]) 0\n",
      "pick_action [ 0.07687706 -0.04213276  0.00762664] tensor([[0.9948, 0.0052]]) 0\n",
      "pick_action [-0.13804308 -0.05359146  0.02145742] tensor([[0.9957, 0.0043]]) 0\n",
      "pick_action [-0.04707425  0.02727964  0.00295143] tensor([[0.9957, 0.0043]]) 0\n",
      "pick_action [-0.11419014 -0.13109704  0.02933903] tensor([[0.9957, 0.0043]]) 0\n"
     ]
    }
   ],
   "source": [
    "##############################################################################\n",
    "# Running a single experiment\n",
    "\n",
    "true_theta = [1.0, 0.5]\n",
    "n_steps = 1000\n",
    "seed = 0\n",
    "args = argparse.Namespace() # From https://stackoverflow.com/questions/16878315/what-is-the-right-way-to-treat-python-argparse-namespace-as-a-dictionary\n",
    "args.n_feat = len(true_theta)\n",
    "args.optim = 'sgd'\n",
    "args.learn_rate = 1e-2\n",
    "args.momentum = 0.9 # only for SGD\n",
    "args.gamma = 1 # discount factor\n",
    "args.sample_cost = 2 # 0 <= cost\n",
    "args.in_dim = 3 # input dim of policy\n",
    "args.n_act = 2 # num actions\n",
    "\n",
    "agent = PolicyGradientREINFORCE(PolicyNN, args) #UniformRandom(n_arm)\n",
    "env = ContextualBanditFunctionalContext(normal_iid, true_theta, linear_classifier)\n",
    "experiment = BaseExperiment(agent, env, n_steps=n_steps,\n",
    "                            seed=seed, unique_id='example')\n",
    "\n",
    "experiment.run_experiment()"
   ]
  },
  {
   "cell_type": "code",
   "execution_count": 93,
   "metadata": {},
   "outputs": [
    {
     "data": {
      "image/png": "[encoded data removed]",
      "text/plain": [
       "<Figure size 640x480 with 1 Axes>"
      ]
     },
     "metadata": {},
     "output_type": "display_data"
    },
    {
     "name": "stdout",
     "output_type": "stream",
     "text": [
      "<ggplot: (-9223372029304856197)>\n",
      "36 0.036\n"
     ]
    }
   ],
   "source": [
    "##############################################################################\n",
    "# Simple display / plot of results\n",
    "\n",
    "experiment.results.head()\n",
    "\n",
    "p = (gg.ggplot(experiment.results)\n",
    "     + gg.aes(x='t', y='cum_regret', colour='unique_id')\n",
    "     + gg.geom_line())\n",
    "print(p)\n",
    "\n",
    "print(env.num_query, env.num_query/n_steps)"
   ]
  },
  {
   "cell_type": "code",
   "execution_count": 74,
   "metadata": {},
   "outputs": [
    {
     "data": {
      "text/html": [
       "<div>\n",
       "<style scoped>\n",
       "    .dataframe tbody tr th:only-of-type {\n",
       "        vertical-align: middle;\n",
       "    }\n",
       "\n",
       "    .dataframe tbody tr th {\n",
       "        vertical-align: top;\n",
       "    }\n",
       "\n",
       "    .dataframe thead th {\n",
       "        text-align: right;\n",
       "    }\n",
       "</style>\n",
       "<table border=\"1\" class=\"dataframe\">\n",
       "  <thead>\n",
       "    <tr style=\"text-align: right;\">\n",
       "      <th></th>\n",
       "      <th>t</th>\n",
       "      <th>instant_regret</th>\n",
       "      <th>cum_regret</th>\n",
       "      <th>action</th>\n",
       "      <th>unique_id</th>\n",
       "      <th>instant_reward</th>\n",
       "      <th>cum_reward</th>\n",
       "      <th>logger</th>\n",
       "    </tr>\n",
       "  </thead>\n",
       "  <tbody>\n",
       "    <tr>\n",
       "      <th>0</th>\n",
       "      <td>1</td>\n",
       "      <td>1.0</td>\n",
       "      <td>1.0</td>\n",
       "      <td>(1, [0.0])</td>\n",
       "      <td>example</td>\n",
       "      <td>0.0</td>\n",
       "      <td>0.0</td>\n",
       "      <td>[0.0, 0.0]</td>\n",
       "    </tr>\n",
       "    <tr>\n",
       "      <th>1</th>\n",
       "      <td>2</td>\n",
       "      <td>0.0</td>\n",
       "      <td>1.0</td>\n",
       "      <td>(0, [1.0])</td>\n",
       "      <td>example</td>\n",
       "      <td>1.0</td>\n",
       "      <td>1.0</td>\n",
       "      <td>[0.1708161200942459, 0.03874788745202391]</td>\n",
       "    </tr>\n",
       "    <tr>\n",
       "      <th>2</th>\n",
       "      <td>3</td>\n",
       "      <td>0.0</td>\n",
       "      <td>1.0</td>\n",
       "      <td>(1, [1.0])</td>\n",
       "      <td>example</td>\n",
       "      <td>1.0</td>\n",
       "      <td>2.0</td>\n",
       "      <td>[0.1708161200942459, 0.03874788745202391]</td>\n",
       "    </tr>\n",
       "    <tr>\n",
       "      <th>3</th>\n",
       "      <td>4</td>\n",
       "      <td>0.0</td>\n",
       "      <td>1.0</td>\n",
       "      <td>(1, [1.0])</td>\n",
       "      <td>example</td>\n",
       "      <td>1.0</td>\n",
       "      <td>3.0</td>\n",
       "      <td>[0.3446004684452079, -0.05219204609108057]</td>\n",
       "    </tr>\n",
       "    <tr>\n",
       "      <th>4</th>\n",
       "      <td>5</td>\n",
       "      <td>1.0</td>\n",
       "      <td>2.0</td>\n",
       "      <td>(0, [-1.0])</td>\n",
       "      <td>example</td>\n",
       "      <td>0.0</td>\n",
       "      <td>3.0</td>\n",
       "      <td>[0.43558155840192403, -0.06668611162194406]</td>\n",
       "    </tr>\n",
       "    <tr>\n",
       "      <th>...</th>\n",
       "      <td>...</td>\n",
       "      <td>...</td>\n",
       "      <td>...</td>\n",
       "      <td>...</td>\n",
       "      <td>...</td>\n",
       "      <td>...</td>\n",
       "      <td>...</td>\n",
       "      <td>...</td>\n",
       "    </tr>\n",
       "    <tr>\n",
       "      <th>9995</th>\n",
       "      <td>9996</td>\n",
       "      <td>0.0</td>\n",
       "      <td>141.0</td>\n",
       "      <td>(1, [1.0])</td>\n",
       "      <td>example</td>\n",
       "      <td>1.0</td>\n",
       "      <td>9855.0</td>\n",
       "      <td>[6.9424726177459535, 3.6678770921752286]</td>\n",
       "    </tr>\n",
       "    <tr>\n",
       "      <th>9996</th>\n",
       "      <td>9997</td>\n",
       "      <td>0.0</td>\n",
       "      <td>141.0</td>\n",
       "      <td>(1, [1.0])</td>\n",
       "      <td>example</td>\n",
       "      <td>1.0</td>\n",
       "      <td>9856.0</td>\n",
       "      <td>[6.805109055478926, 3.5001452637194865]</td>\n",
       "    </tr>\n",
       "    <tr>\n",
       "      <th>9997</th>\n",
       "      <td>9998</td>\n",
       "      <td>0.0</td>\n",
       "      <td>141.0</td>\n",
       "      <td>(1, [-1.0])</td>\n",
       "      <td>example</td>\n",
       "      <td>1.0</td>\n",
       "      <td>9857.0</td>\n",
       "      <td>[6.805088004930449, 3.499285093009299]</td>\n",
       "    </tr>\n",
       "    <tr>\n",
       "      <th>9998</th>\n",
       "      <td>9999</td>\n",
       "      <td>0.0</td>\n",
       "      <td>141.0</td>\n",
       "      <td>(1, [-1.0])</td>\n",
       "      <td>example</td>\n",
       "      <td>1.0</td>\n",
       "      <td>9858.0</td>\n",
       "      <td>[6.84573904894553, 3.488383444882604]</td>\n",
       "    </tr>\n",
       "    <tr>\n",
       "      <th>9999</th>\n",
       "      <td>10000</td>\n",
       "      <td>0.0</td>\n",
       "      <td>141.0</td>\n",
       "      <td>(1, [-1.0])</td>\n",
       "      <td>example</td>\n",
       "      <td>1.0</td>\n",
       "      <td>9859.0</td>\n",
       "      <td>[6.855606265809304, 3.493566963862885]</td>\n",
       "    </tr>\n",
       "  </tbody>\n",
       "</table>\n",
       "<p>10000 rows × 8 columns</p>\n",
       "</div>"
      ],
      "text/plain": [
       "          t  instant_regret  cum_regret       action unique_id  \\\n",
       "0         1             1.0         1.0   (1, [0.0])   example   \n",
       "1         2             0.0         1.0   (0, [1.0])   example   \n",
       "2         3             0.0         1.0   (1, [1.0])   example   \n",
       "3         4             0.0         1.0   (1, [1.0])   example   \n",
       "4         5             1.0         2.0  (0, [-1.0])   example   \n",
       "...     ...             ...         ...          ...       ...   \n",
       "9995   9996             0.0       141.0   (1, [1.0])   example   \n",
       "9996   9997             0.0       141.0   (1, [1.0])   example   \n",
       "9997   9998             0.0       141.0  (1, [-1.0])   example   \n",
       "9998   9999             0.0       141.0  (1, [-1.0])   example   \n",
       "9999  10000             0.0       141.0  (1, [-1.0])   example   \n",
       "\n",
       "      instant_reward  cum_reward                                       logger  \n",
       "0                0.0         0.0                                   [0.0, 0.0]  \n",
       "1                1.0         1.0    [0.1708161200942459, 0.03874788745202391]  \n",
       "2                1.0         2.0    [0.1708161200942459, 0.03874788745202391]  \n",
       "3                1.0         3.0   [0.3446004684452079, -0.05219204609108057]  \n",
       "4                0.0         3.0  [0.43558155840192403, -0.06668611162194406]  \n",
       "...              ...         ...                                          ...  \n",
       "9995             1.0      9855.0     [6.9424726177459535, 3.6678770921752286]  \n",
       "9996             1.0      9856.0      [6.805109055478926, 3.5001452637194865]  \n",
       "9997             1.0      9857.0       [6.805088004930449, 3.499285093009299]  \n",
       "9998             1.0      9858.0        [6.84573904894553, 3.488383444882604]  \n",
       "9999             1.0      9859.0       [6.855606265809304, 3.493566963862885]  \n",
       "\n",
       "[10000 rows x 8 columns]"
      ]
     },
     "execution_count": 74,
     "metadata": {},
     "output_type": "execute_result"
    }
   ],
   "source": [
    "experiment.results"
   ]
  },
  {
   "cell_type": "code",
   "execution_count": 75,
   "metadata": {},
   "outputs": [
    {
     "data": {
      "text/plain": [
       "array([6.87233982, 3.49872687])"
      ]
     },
     "execution_count": 75,
     "metadata": {},
     "output_type": "execute_result"
    }
   ],
   "source": [
    "agent.w_t"
   ]
  },
  {
   "cell_type": "code",
   "execution_count": 76,
   "metadata": {},
   "outputs": [
    {
     "data": {
      "text/plain": [
       "[Parameter containing:\n",
       " tensor([[ 0.0551,  0.0078],\n",
       "         [-0.0998,  0.3322]], requires_grad=True), Parameter containing:\n",
       " tensor([-0.0904, -0.1949], requires_grad=True), Parameter containing:\n",
       " tensor([[ 0.4307, -0.5423],\n",
       "         [-0.1344, -0.4986]], requires_grad=True), Parameter containing:\n",
       " tensor([-3.5189,  4.0661], requires_grad=True)]"
      ]
     },
     "execution_count": 76,
     "metadata": {},
     "output_type": "execute_result"
    }
   ],
   "source": [
    "list(agent.policy.parameters())"
   ]
  },
  {
   "cell_type": "code",
   "execution_count": 56,
   "metadata": {},
   "outputs": [],
   "source": [
    "a=[np.sin(2*np.pi*10*(ts-1)/1000) + np.random.normal(loc=0.0, scale=0.1) for ts in range(1000)]\n",
    "a=pd.DataFrame({'x':range(1000),'y':a})\n",
    "p = (gg.ggplot(a)\n",
    "     + gg.aes(x='x', y='y')\n",
    "     + gg.geom_line())\n",
    "print(p)"
   ]
  },
  {
   "cell_type": "code",
   "execution_count": 77,
   "metadata": {},
   "outputs": [
    {
     "data": {
      "text/plain": [
       "array([ 1,  2, 23])"
      ]
     },
     "execution_count": 77,
     "metadata": {},
     "output_type": "execute_result"
    }
   ],
   "source": [
    "np.append(np.array([1,2]),23)"
   ]
  }
 ],
 "metadata": {
  "kernelspec": {
   "display_name": "Python 3",
   "language": "python",
   "name": "python3"
  },
  "language_info": {
   "codemirror_mode": {
    "name": "ipython",
    "version": 3
   },
   "file_extension": ".py",
   "mimetype": "text/x-python",
   "name": "python",
   "nbconvert_exporter": "python",
   "pygments_lexer": "ipython3",
   "version": "3.6.9"
  }
 },
 "nbformat": 4,
 "nbformat_minor": 4
}
